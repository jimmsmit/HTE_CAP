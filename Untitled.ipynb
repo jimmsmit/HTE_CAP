{
 "cells": [
  {
   "cell_type": "code",
   "execution_count": 1,
   "id": "f6e1b959",
   "metadata": {},
   "outputs": [
    {
     "name": "stdout",
     "output_type": "stream",
     "text": [
      "2023-09-27 16:35:03.546266\n"
     ]
    }
   ],
   "source": [
    "import datetime\n",
    "now = datetime.datetime.now()\n",
    "print(now)"
   ]
  },
  {
   "cell_type": "markdown",
   "id": "f40d4972",
   "metadata": {},
   "source": [
    "##load required packages"
   ]
  },
  {
   "cell_type": "markdown",
   "id": "3c88864a",
   "metadata": {},
   "source": [
    "## Load required packages"
   ]
  },
  {
   "cell_type": "code",
   "execution_count": 2,
   "id": "45b8a78c",
   "metadata": {},
   "outputs": [],
   "source": [
    "from statsmodels.iolib.smpickle import load_pickle\n",
    "from pickle import load\n",
    "import pandas as pd"
   ]
  },
  {
   "cell_type": "markdown",
   "id": "e14af725",
   "metadata": {},
   "source": [
    "## Model 1"
   ]
  },
  {
   "cell_type": "code",
   "execution_count": 3,
   "id": "82560732",
   "metadata": {},
   "outputs": [
    {
     "name": "stdout",
     "output_type": "stream",
     "text": [
      "           variable         std        mean\n",
      "0     comorb_cancer    0.246067    0.064741\n",
      "1      comorb_liver    0.142938    0.020867\n",
      "2        comorb_chf    0.373394    0.167469\n",
      "3      comorb_renal    0.424927    0.236490\n",
      "4   comorb_diabetes    0.384890    0.180845\n",
      "5       comorb_copd    0.370510    0.164259\n",
      "6        comorb_cva    0.198749    0.041199\n",
      "7        comorb_ihd    0.302903    0.102194\n",
      "8      comorb_neuro    0.141132    0.020332\n",
      "9               sex    0.489612    0.601391\n",
      "10              age   17.559826   66.579454\n",
      "11               rr    6.498879   23.086035\n",
      "12              dbp   13.172182   71.170358\n",
      "13              sbp   21.456229  127.768325\n",
      "14             temp    1.090284   37.965907\n",
      "15               hr   20.443805   93.497057\n",
      "16             spo2    5.281236   93.360514\n",
      "17            creat   65.122390  106.132118\n",
      "18           sodium    4.964905  135.353558\n",
      "19             urea    6.467068    8.581818\n",
      "20              crp  132.975864  204.146720\n",
      "21          glucose    2.886811    7.666835\n",
      "22              wbc    6.970891   13.845775\n",
      "\n",
      "scaler fit on n samples:\n",
      "1869\n"
     ]
    },
    {
     "name": "stderr",
     "output_type": "stream",
     "text": [
      "C:\\Users\\31643\\Documents\\venvs\\cap\\lib\\site-packages\\sklearn\\base.py:329: UserWarning: Trying to unpickle estimator StandardScaler from version 1.2.1 when using version 1.1.3. This might lead to breaking code or invalid results. Use at your own risk. For more info please refer to:\n",
      "https://scikit-learn.org/stable/model_persistence.html#security-maintainability-limitations\n",
      "  warnings.warn(\n"
     ]
    }
   ],
   "source": [
    "# load the trained scaler\n",
    "scaler = load(open('final_models/final_model_1/scaler.pkl', 'rb'))\n",
    "\n",
    "# create dataframe with saved std and mean per variable\n",
    "df_scaler = pd.DataFrame()\n",
    "df_scaler['variable'] = scaler.feature_names_in_\n",
    "df_scaler['std'] = scaler.scale_\n",
    "df_scaler['mean'] = scaler.mean_\n",
    "\n",
    "print(df_scaler)\n",
    "\n",
    "print('\\nscaler fit on n samples:')\n",
    "print(scaler.n_samples_seen_)"
   ]
  },
  {
   "cell_type": "code",
   "execution_count": 4,
   "id": "8551642a",
   "metadata": {},
   "outputs": [
    {
     "name": "stdout",
     "output_type": "stream",
     "text": [
      "variables seen during fitting of imputer:\n",
      "['comorb_cancer' 'comorb_liver' 'comorb_chf' 'comorb_renal'\n",
      " 'comorb_diabetes' 'comorb_copd' 'comorb_cva' 'comorb_ihd' 'comorb_neuro'\n",
      " 'sex' 'age' 'rr' 'dbp' 'sbp' 'temp' 'hr' 'spo2' 'creat' 'sodium' 'urea'\n",
      " 'crp' 'glucose' 'wbc']\n"
     ]
    },
    {
     "name": "stderr",
     "output_type": "stream",
     "text": [
      "C:\\Users\\31643\\Documents\\venvs\\cap\\lib\\site-packages\\sklearn\\base.py:329: UserWarning: Trying to unpickle estimator KNNImputer from version 1.2.1 when using version 1.1.3. This might lead to breaking code or invalid results. Use at your own risk. For more info please refer to:\n",
      "https://scikit-learn.org/stable/model_persistence.html#security-maintainability-limitations\n",
      "  warnings.warn(\n"
     ]
    }
   ],
   "source": [
    "# load the trained imputer\n",
    "imputer = load(open('final_models/final_model_1/imputer.pkl', 'rb'))\n",
    "\n",
    "# show variables seen during fitting of imputer\n",
    "print('variables seen during fitting of imputer:')\n",
    "print(imputer.feature_names_in_)"
   ]
  },
  {
   "cell_type": "code",
   "execution_count": 5,
   "id": "ffc952a7",
   "metadata": {},
   "outputs": [
    {
     "name": "stdout",
     "output_type": "stream",
     "text": [
      "Trained model coefficients:\n",
      "random                    0.00000\n",
      "comorb_cancer*random      0.00000\n",
      "comorb_liver*random       0.00000\n",
      "comorb_chf*random         0.00000\n",
      "comorb_renal*random       0.00000\n",
      "comorb_diabetes*random    0.00000\n",
      "comorb_copd*random        0.00000\n",
      "comorb_cva*random         0.00000\n",
      "comorb_ihd*random         0.00000\n",
      "comorb_neuro*random       0.00000\n",
      "sex*random                0.00000\n",
      "age*random                0.00000\n",
      "rr*random                 0.00000\n",
      "dbp*random                0.00000\n",
      "sbp*random                0.00000\n",
      "temp*random               0.00000\n",
      "hr*random                 0.00000\n",
      "spo2*random               0.00000\n",
      "creat*random              0.00000\n",
      "sodium*random             0.00000\n",
      "urea*random               0.00000\n",
      "crp*random               -0.03473\n",
      "glucose*random            0.00000\n",
      "wbc*random                0.00000\n",
      "dtype: float64\n"
     ]
    }
   ],
   "source": [
    "# load the trained model\n",
    "model = load_pickle('final_models/final_model_1/trained_model.pickle')\n",
    "\n",
    "# define regression coefficients\n",
    "coefs = model.params\n",
    "\n",
    "print('Trained model coefficients:')\n",
    "print(coefs)"
   ]
  },
  {
   "cell_type": "markdown",
   "id": "392f1ad2",
   "metadata": {},
   "source": [
    "## Model 2"
   ]
  },
  {
   "cell_type": "code",
   "execution_count": 6,
   "id": "7a714c0d",
   "metadata": {},
   "outputs": [
    {
     "name": "stdout",
     "output_type": "stream",
     "text": [
      "           variable         std        mean\n",
      "0     comorb_cancer    0.246067    0.064741\n",
      "1      comorb_liver    0.142938    0.020867\n",
      "2        comorb_chf    0.373394    0.167469\n",
      "3      comorb_renal    0.424927    0.236490\n",
      "4   comorb_diabetes    0.384890    0.180845\n",
      "5       comorb_copd    0.370510    0.164259\n",
      "6        comorb_cva    0.198749    0.041199\n",
      "7        comorb_ihd    0.302903    0.102194\n",
      "8      comorb_neuro    0.141132    0.020332\n",
      "9               sex    0.489612    0.601391\n",
      "10              age   17.559826   66.579454\n",
      "11               rr    6.498879   23.086035\n",
      "12              dbp   13.172182   71.170358\n",
      "13              sbp   21.456229  127.768325\n",
      "14             temp    1.090284   37.965907\n",
      "15               hr   20.443805   93.497057\n",
      "16             spo2    5.281236   93.360514\n",
      "17            creat   65.122390  106.132118\n",
      "18           sodium    4.964905  135.353558\n",
      "19             urea    6.467068    8.581818\n",
      "20              crp  132.975864  204.146720\n",
      "21          glucose    2.886811    7.666835\n",
      "22              wbc    6.970891   13.845775\n",
      "23       age_binary    0.499799    0.485821\n",
      "24        rr_binary    0.499298    0.473515\n",
      "25       dbp_binary    0.499828    0.486891\n",
      "26       sbp_binary    0.499984    0.495987\n",
      "27      temp_binary    0.499999    0.499197\n",
      "28        hr_binary    0.499597    0.479936\n",
      "29      spo2_binary    0.499679    0.482076\n",
      "30     creat_binary    0.499868    0.488497\n",
      "31    sodium_binary    0.495964    0.436597\n",
      "32      urea_binary    0.499988    0.496522\n",
      "33       crp_binary    0.499994    0.497592\n",
      "34   glucose_binary    0.499912    0.490637\n",
      "35       wbc_binary    0.499984    0.495987\n",
      "\n",
      "scaler fit on n samples:\n",
      "1869\n"
     ]
    },
    {
     "name": "stderr",
     "output_type": "stream",
     "text": [
      "C:\\Users\\31643\\Documents\\venvs\\cap\\lib\\site-packages\\sklearn\\base.py:329: UserWarning: Trying to unpickle estimator StandardScaler from version 1.2.1 when using version 1.1.3. This might lead to breaking code or invalid results. Use at your own risk. For more info please refer to:\n",
      "https://scikit-learn.org/stable/model_persistence.html#security-maintainability-limitations\n",
      "  warnings.warn(\n"
     ]
    }
   ],
   "source": [
    "# load the trained scaler\n",
    "scaler = load(open('final_models/final_model_2/scaler.pkl', 'rb'))\n",
    "\n",
    "# create dataframe with saved std and mean per variable\n",
    "df_scaler = pd.DataFrame()\n",
    "df_scaler['variable'] = scaler.feature_names_in_\n",
    "df_scaler['std'] = scaler.scale_\n",
    "df_scaler['mean'] = scaler.mean_\n",
    "\n",
    "print(df_scaler)\n",
    "\n",
    "print('\\nscaler fit on n samples:')\n",
    "print(scaler.n_samples_seen_)"
   ]
  },
  {
   "cell_type": "code",
   "execution_count": 7,
   "id": "7fc9ffd0",
   "metadata": {},
   "outputs": [
    {
     "name": "stdout",
     "output_type": "stream",
     "text": [
      "variables seen during fitting of imputer:\n",
      "['comorb_cancer' 'comorb_liver' 'comorb_chf' 'comorb_renal'\n",
      " 'comorb_diabetes' 'comorb_copd' 'comorb_cva' 'comorb_ihd' 'comorb_neuro'\n",
      " 'sex' 'age' 'rr' 'dbp' 'sbp' 'temp' 'hr' 'spo2' 'creat' 'sodium' 'urea'\n",
      " 'crp' 'glucose' 'wbc']\n"
     ]
    },
    {
     "name": "stderr",
     "output_type": "stream",
     "text": [
      "C:\\Users\\31643\\Documents\\venvs\\cap\\lib\\site-packages\\sklearn\\base.py:329: UserWarning: Trying to unpickle estimator KNNImputer from version 1.2.1 when using version 1.1.3. This might lead to breaking code or invalid results. Use at your own risk. For more info please refer to:\n",
      "https://scikit-learn.org/stable/model_persistence.html#security-maintainability-limitations\n",
      "  warnings.warn(\n"
     ]
    }
   ],
   "source": [
    "# load the trained imputer\n",
    "imputer = load(open('final_models/final_model_2/imputer.pkl', 'rb'))\n",
    "\n",
    "# show variables seen during fitting of imputer\n",
    "print('variables seen during fitting of imputer:')\n",
    "print(imputer.feature_names_in_)"
   ]
  },
  {
   "cell_type": "code",
   "execution_count": null,
   "id": "350aa37b",
   "metadata": {},
   "outputs": [],
   "source": []
  }
 ],
 "metadata": {
  "kernelspec": {
   "display_name": "Python 3 (ipykernel)",
   "language": "python",
   "name": "python3"
  },
  "language_info": {
   "codemirror_mode": {
    "name": "ipython",
    "version": 3
   },
   "file_extension": ".py",
   "mimetype": "text/x-python",
   "name": "python",
   "nbconvert_exporter": "python",
   "pygments_lexer": "ipython3",
   "version": "3.10.10"
  }
 },
 "nbformat": 4,
 "nbformat_minor": 5
}
