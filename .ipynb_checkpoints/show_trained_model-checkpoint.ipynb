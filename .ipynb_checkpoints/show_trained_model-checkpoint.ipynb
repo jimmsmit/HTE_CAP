{
 "cells": [
  {
   "cell_type": "code",
   "execution_count": 3,
   "id": "1beea712",
   "metadata": {},
   "outputs": [
    {
     "name": "stdout",
     "output_type": "stream",
     "text": [
      "2023-07-06 14:51:30.922163\n"
     ]
    }
   ],
   "source": [
    "import datetime\n",
    "now = datetime.datetime.now()\n",
    "print(now)"
   ]
  },
  {
   "cell_type": "code",
   "execution_count": 4,
   "id": "9ce6790c",
   "metadata": {},
   "outputs": [],
   "source": [
    "# load required packages\n",
    "from statsmodels.iolib.smpickle import load_pickle\n",
    "from pickle import load\n"
   ]
  },
  {
   "cell_type": "markdown",
   "id": "504d6c21",
   "metadata": {},
   "source": [
    "## Now load and show the trained scaler, imputer and logistic regression model##"
   ]
  },
  {
   "cell_type": "code",
   "execution_count": null,
   "id": "6e450a3c",
   "metadata": {},
   "outputs": [],
   "source": [
    "# load the trained scaler\n",
    "scaler = load(open(load_directory +'scaler.pkl', 'rb'))\n",
    "\n",
    "print()\n",
    "print(scaler.scale_)\n",
    "print(scaler.mean_)\n",
    "print(scaler.var_)\n",
    "print(scaler.feature_names_in_)\n",
    "print(scaler.n_samples_seen_)"
   ]
  }
 ],
 "metadata": {
  "kernelspec": {
   "display_name": "Python 3 (ipykernel)",
   "language": "python",
   "name": "python3"
  },
  "language_info": {
   "codemirror_mode": {
    "name": "ipython",
    "version": 3
   },
   "file_extension": ".py",
   "mimetype": "text/x-python",
   "name": "python",
   "nbconvert_exporter": "python",
   "pygments_lexer": "ipython3",
   "version": "3.10.10"
  }
 },
 "nbformat": 4,
 "nbformat_minor": 5
}
