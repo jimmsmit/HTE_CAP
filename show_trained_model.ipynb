{
 "cells": [
  {
   "cell_type": "code",
   "execution_count": 3,
   "id": "6c3362c5",
   "metadata": {},
   "outputs": [
    {
     "name": "stdout",
     "output_type": "stream",
     "text": [
      "2023-07-06 14:51:30.922163\n"
     ]
    }
   ],
   "source": [
    "import datetime\n",
    "now = datetime.datetime.now()\n",
    "print(now)"
   ]
  },
  {
   "cell_type": "code",
   "execution_count": 9,
   "id": "9ce6790c",
   "metadata": {},
   "outputs": [],
   "source": [
    "# load required packages\n",
    "from statsmodels.iolib.smpickle import load_pickle\n",
    "from pickle import load\n",
    "import pandas as pd\n"
   ]
  },
  {
   "cell_type": "markdown",
   "id": "504d6c21",
   "metadata": {},
   "source": [
    "## Now load and show the trained scaler, imputer and logistic regression model ##"
   ]
  },
  {
   "cell_type": "code",
   "execution_count": 13,
   "id": "6e450a3c",
   "metadata": {},
   "outputs": [
    {
     "name": "stdout",
     "output_type": "stream",
     "text": [
      "   variable         std        mean\n",
      "0       sex    0.489031    0.604156\n",
      "1       age   17.566646   66.299740\n",
      "2        rr    6.862763   23.400208\n",
      "3       dbp   13.216114   71.297455\n",
      "4       sbp   21.715158  127.906182\n",
      "5      temp    1.094766   37.973278\n",
      "6        hr   20.468060   93.759896\n",
      "7      spo2    5.426468   93.179429\n",
      "8     creat   65.040679  106.524546\n",
      "9    sodium    4.966747  135.379325\n",
      "10     urea    6.479628    8.623396\n",
      "11      crp  130.965875  204.315969\n",
      "12  glucose    2.956117    7.975124\n",
      "13      wbc    6.939612   13.800254\n",
      "\n",
      "scaler fit on n samples:\n",
      "1925\n"
     ]
    },
    {
     "name": "stderr",
     "output_type": "stream",
     "text": [
      "C:\\Users\\31643\\Documents\\venvs\\cap\\lib\\site-packages\\sklearn\\base.py:329: UserWarning: Trying to unpickle estimator StandardScaler from version 1.2.1 when using version 1.1.3. This might lead to breaking code or invalid results. Use at your own risk. For more info please refer to:\n",
      "https://scikit-learn.org/stable/model_persistence.html#security-maintainability-limitations\n",
      "  warnings.warn(\n"
     ]
    }
   ],
   "source": [
    "# load the trained scaler\n",
    "scaler = load(open('scaler.pkl', 'rb'))\n",
    "\n",
    "# create dataframe with saved std and mean per variable\n",
    "df_scaler = pd.DataFrame()\n",
    "df_scaler['variable'] = scaler.feature_names_in_\n",
    "df_scaler['std'] = scaler.scale_\n",
    "df_scaler['mean'] = scaler.mean_\n",
    "\n",
    "print(df_scaler)\n",
    "\n",
    "print('\\nscaler fit on n samples:')\n",
    "print(scaler.n_samples_seen_)"
   ]
  },
  {
   "cell_type": "code",
   "execution_count": 16,
   "id": "2f87982d",
   "metadata": {},
   "outputs": [
    {
     "name": "stdout",
     "output_type": "stream",
     "text": [
      "Trained model coefficients:\n",
      "random            0.000000\n",
      "sex*random        0.000000\n",
      "age*random        0.000000\n",
      "rr*random         0.000000\n",
      "dbp*random        0.000000\n",
      "sbp*random        0.000000\n",
      "temp*random       0.000000\n",
      "hr*random         0.000000\n",
      "spo2*random       0.000000\n",
      "creat*random      0.000000\n",
      "sodium*random     0.000000\n",
      "urea*random       0.000000\n",
      "crp*random       -0.038720\n",
      "glucose*random   -0.017901\n",
      "wbc*random        0.000000\n",
      "dtype: float64\n"
     ]
    }
   ],
   "source": [
    "# load the trained imputer\n",
    "scaler = load(open('imputer.pkl', 'rb'))\n",
    "\n",
    "# show variables seen during fitting of imputer\n",
    "print('variables seen during impi')\n"
   ]
  },
  {
   "cell_type": "code",
   "execution_count": 17,
   "id": "a788adb4",
   "metadata": {},
   "outputs": [
    {
     "name": "stdout",
     "output_type": "stream",
     "text": [
      "Trained model coefficients:\n",
      "random            0.000000\n",
      "sex*random        0.000000\n",
      "age*random        0.000000\n",
      "rr*random         0.000000\n",
      "dbp*random        0.000000\n",
      "sbp*random        0.000000\n",
      "temp*random       0.000000\n",
      "hr*random         0.000000\n",
      "spo2*random       0.000000\n",
      "creat*random      0.000000\n",
      "sodium*random     0.000000\n",
      "urea*random       0.000000\n",
      "crp*random       -0.038720\n",
      "glucose*random   -0.017901\n",
      "wbc*random        0.000000\n",
      "dtype: float64\n"
     ]
    }
   ],
   "source": [
    "# load the trained imputer\n",
    "model = load_pickle('trained_model.pickle')\n",
    "\n",
    "# define regression coefficients\n",
    "coefs = model.params\n",
    "\n",
    "print('Trained model coefficients:')\n",
    "print(coefs)"
   ]
  },
  {
   "cell_type": "code",
   "execution_count": null,
   "id": "66065a8c",
   "metadata": {},
   "outputs": [],
   "source": []
  }
 ],
 "metadata": {
  "kernelspec": {
   "display_name": "Python 3 (ipykernel)",
   "language": "python",
   "name": "python3"
  },
  "language_info": {
   "codemirror_mode": {
    "name": "ipython",
    "version": 3
   },
   "file_extension": ".py",
   "mimetype": "text/x-python",
   "name": "python",
   "nbconvert_exporter": "python",
   "pygments_lexer": "ipython3",
   "version": "3.10.10"
  }
 },
 "nbformat": 4,
 "nbformat_minor": 5
}
